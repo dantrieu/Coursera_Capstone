{
 "cells": [
  {
   "cell_type": "markdown",
   "metadata": {
    "collapsed": true
   },
   "source": [
    "<h1 align=center><font size = 5>Segmenting and Clustering Neighborhoods in Toronto</font></h1>"
   ]
  },
  {
   "cell_type": "markdown",
   "metadata": {},
   "source": [
    "## Introduction\n",
    "\n",
    "In this assignment, we will explore, segment, and cluster the neighborhoods in the city of Toronto. For the Toronto neighborhood data, a Wikipedia page exists that has all the information we need to explore and cluster the neighborhoods in Toronto.\n",
    "\n",
    "Once the data is in a structured format, we can replicate the analysis that we did to the New York City dataset to explore and cluster the neighborhoods in the city of Toronto."
   ]
  },
  {
   "cell_type": "markdown",
   "metadata": {},
   "source": [
    "## Table of Contents\n",
    "\n",
    "<div class=\"alert alert-block alert-info\" style=\"margin-top: 20px\">\n",
    "\n",
    "<font size = 3>\n",
    "\n",
    "1.  Extract Toronto neighborhood data from wikipedia and build data frame\n",
    "\n",
    "    \n",
    "2.  Coordinates (lat, lng) for each Toronto neighborhoods\n",
    "\n",
    "    \n",
    "3.  Analysis on neighborhoods by clustering technique\n",
    "\n",
    "    </font>\n",
    "    </div>"
   ]
  },
  {
   "cell_type": "markdown",
   "metadata": {},
   "source": [
    "First, let's import all the required libraries"
   ]
  },
  {
   "cell_type": "code",
   "execution_count": 1,
   "metadata": {},
   "outputs": [],
   "source": [
    "import numpy as np\n",
    "import pandas as pd\n",
    "\n",
    "import requests\n",
    "import json # to handle json file from Foursquare\n",
    "\n",
    "#!conda install -c conda-forge geopy --yes # uncomment if required\n",
    "from geopy.geocoders import Nominatim # convert an address into latitude and longitude values\n",
    "\n",
    "#! pip install geocoder\n",
    "import geocoder\n",
    "\n",
    "# Matplotlib and associated plotting modules\n",
    "import matplotlib.cm as cm\n",
    "import matplotlib.colors as colors\n",
    "\n",
    "# import k-means from clustering stage\n",
    "from sklearn.cluster import KMeans\n",
    "\n",
    "#! pip install folium # uncomment if required\n",
    "import folium # map rendering library"
   ]
  },
  {
   "cell_type": "markdown",
   "metadata": {},
   "source": [
    "## 1. Extract Toronto neighborhood data from wikipedia and build data frame"
   ]
  },
  {
   "cell_type": "markdown",
   "metadata": {},
   "source": [
    "Toronto neightborhood data is available on this webpage: https://en.wikipedia.org/wiki/List_of_postal_codes_of_Canada:_M. We would need to crawl through the html and extract the table into dataframe."
   ]
  },
  {
   "cell_type": "markdown",
   "metadata": {},
   "source": [
    "#### First we extract the table from wikipedia page using pandas"
   ]
  },
  {
   "cell_type": "code",
   "execution_count": 2,
   "metadata": {},
   "outputs": [],
   "source": [
    "# Extract html data\n",
    "data_url = 'https://en.wikipedia.org/wiki/List_of_postal_codes_of_Canada:_M'\n",
    "wiki_data = requests.get(data_url)"
   ]
  },
  {
   "cell_type": "code",
   "execution_count": 3,
   "metadata": {},
   "outputs": [
    {
     "name": "stdout",
     "output_type": "stream",
     "text": [
      "3 <class 'list'> <class 'pandas.core.frame.DataFrame'>\n"
     ]
    }
   ],
   "source": [
    "# Use pandas to attempt reading the table in html\n",
    "wiki_df = pd.read_html(wiki_data.text)\n",
    "print(len(wiki_df), type(wiki_df), type(wiki_df[0])) # check the size & type"
   ]
  },
  {
   "cell_type": "markdown",
   "metadata": {},
   "source": [
    "Click **here** to show the code to loop through captured dataframes\n",
    "\n",
    "<!--\n",
    "for data in wiki_df:\n",
    "    print(data.head())\n",
    "    print('----------------------------------------')\n",
    "-->"
   ]
  },
  {
   "cell_type": "code",
   "execution_count": 4,
   "metadata": {},
   "outputs": [
    {
     "name": "stdout",
     "output_type": "stream",
     "text": [
      "  Postal Code           Borough              Neighbourhood\n",
      "0         M1A      Not assigned               Not assigned\n",
      "1         M2A      Not assigned               Not assigned\n",
      "2         M3A        North York                  Parkwoods\n",
      "3         M4A        North York           Victoria Village\n",
      "4         M5A  Downtown Toronto  Regent Park, Harbourfront\n",
      "The shape of neighborhood data is (180, 3)\n"
     ]
    }
   ],
   "source": [
    "# From the above, we know that the neighborhood data is the first item in list\n",
    "neigh_df = wiki_df[0]\n",
    "print(neigh_df.head())\n",
    "print('The shape of neighborhood data is {}'.format(neigh_df.shape))"
   ]
  },
  {
   "cell_type": "markdown",
   "metadata": {},
   "source": [
    "#### Clean up the data\n",
    "\n",
    "Below is more info for the table data:\n",
    "- The dataframe will consist of three columns: PostalCode, Borough, and Neighborhood\n",
    "- Only process the cells that have an assigned borough. Ignore cells with a borough that is Not assigned.\n",
    "- More than one neighborhood can exist in one postal code area. For example, in the table on the Wikipedia page, you will notice that M5A is listed twice and has two neighborhoods: Harbourfront and Regent Park. These two rows will be combined into one row with the neighborhoods separated with a comma as shown in row 11 in the above table.\n",
    "- If a cell has a borough but a Not assigned neighborhood, then the neighborhood will be the same as the borough.\n",
    "- Clean your Notebook and add Markdown cells to explain your work and any assumptions you are making.\n",
    "- In the last cell of your notebook, use the .shape method to print the number of rows of your dataframe."
   ]
  },
  {
   "cell_type": "code",
   "execution_count": 5,
   "metadata": {},
   "outputs": [
    {
     "name": "stdout",
     "output_type": "stream",
     "text": [
      "Check if any 'Not assigned' left:  False ,  False\n"
     ]
    }
   ],
   "source": [
    "# run through each row in the dataframe for cleanup exercise\n",
    "for i, row in neigh_df.iterrows():\n",
    "    \n",
    "    # drop row if Borough is not assigned\n",
    "    if row['Borough'] == 'Not assigned':\n",
    "        neigh_df.drop(i, axis=0, inplace=True)\n",
    "        \n",
    "    # assign 'Borough' name to Neighborhood if neighborhood is not assigned\n",
    "    elif row['Neighbourhood'] == 'Not assigned':\n",
    "        neigh_df.at[i, 'Neighbourhood'] = row['Borough']\n",
    "\n",
    "neigh_df.reset_index(drop=True, inplace=True)\n",
    "print(\"Check if any 'Not assigned' left: \", any(neigh_df['Borough'] == 'Not assigned'), ', ', any(neigh_df['Neighbourhood'] == 'Not assigned'))"
   ]
  },
  {
   "cell_type": "markdown",
   "metadata": {},
   "source": [
    "<div class=\"alert alert-block alert-info\" style=\"margin-top: 20px\">\n",
    "    <font size=3><b> To show the shape of dataframe after cleanup </b></font>\n",
    "</div>"
   ]
  },
  {
   "cell_type": "code",
   "execution_count": 6,
   "metadata": {},
   "outputs": [
    {
     "data": {
      "text/plain": [
       "(103, 3)"
      ]
     },
     "execution_count": 6,
     "metadata": {},
     "output_type": "execute_result"
    }
   ],
   "source": [
    "neigh_df.shape"
   ]
  },
  {
   "cell_type": "markdown",
   "metadata": {},
   "source": [
    "## 2. Coordinates (lat, lng) for each Toronto neighborhoods"
   ]
  },
  {
   "cell_type": "code",
   "execution_count": 7,
   "metadata": {},
   "outputs": [
    {
     "data": {
      "text/html": [
       "<div>\n",
       "<style scoped>\n",
       "    .dataframe tbody tr th:only-of-type {\n",
       "        vertical-align: middle;\n",
       "    }\n",
       "\n",
       "    .dataframe tbody tr th {\n",
       "        vertical-align: top;\n",
       "    }\n",
       "\n",
       "    .dataframe thead th {\n",
       "        text-align: right;\n",
       "    }\n",
       "</style>\n",
       "<table border=\"1\" class=\"dataframe\">\n",
       "  <thead>\n",
       "    <tr style=\"text-align: right;\">\n",
       "      <th></th>\n",
       "      <th>Postal Code</th>\n",
       "      <th>Latitude</th>\n",
       "      <th>Longitude</th>\n",
       "    </tr>\n",
       "  </thead>\n",
       "  <tbody>\n",
       "    <tr>\n",
       "      <th>0</th>\n",
       "      <td>M1B</td>\n",
       "      <td>43.806686</td>\n",
       "      <td>-79.194353</td>\n",
       "    </tr>\n",
       "    <tr>\n",
       "      <th>1</th>\n",
       "      <td>M1C</td>\n",
       "      <td>43.784535</td>\n",
       "      <td>-79.160497</td>\n",
       "    </tr>\n",
       "    <tr>\n",
       "      <th>2</th>\n",
       "      <td>M1E</td>\n",
       "      <td>43.763573</td>\n",
       "      <td>-79.188711</td>\n",
       "    </tr>\n",
       "    <tr>\n",
       "      <th>3</th>\n",
       "      <td>M1G</td>\n",
       "      <td>43.770992</td>\n",
       "      <td>-79.216917</td>\n",
       "    </tr>\n",
       "    <tr>\n",
       "      <th>4</th>\n",
       "      <td>M1H</td>\n",
       "      <td>43.773136</td>\n",
       "      <td>-79.239476</td>\n",
       "    </tr>\n",
       "  </tbody>\n",
       "</table>\n",
       "</div>"
      ],
      "text/plain": [
       "  Postal Code   Latitude  Longitude\n",
       "0         M1B  43.806686 -79.194353\n",
       "1         M1C  43.784535 -79.160497\n",
       "2         M1E  43.763573 -79.188711\n",
       "3         M1G  43.770992 -79.216917\n",
       "4         M1H  43.773136 -79.239476"
      ]
     },
     "execution_count": 7,
     "metadata": {},
     "output_type": "execute_result"
    }
   ],
   "source": [
    "# Import the coordinates file\n",
    "coords_df = pd.read_csv(\"http://cocl.us/Geospatial_data\")\n",
    "coords_df.head()"
   ]
  },
  {
   "cell_type": "markdown",
   "metadata": {},
   "source": [
    "Click **here** for some note on why I did not use geocoder\n",
    "\n",
    "<!-- I tried to use geocoder function but unable to, it keeps returning None\n",
    "\n",
    "# define the function to get lat & lng by postal code\n",
    "def get_latlng(postal_code):\n",
    "    # initialize variables\n",
    "    lat_lng_coords = None\n",
    "\n",
    "    # loop until you get the coordinates\n",
    "    while (lat_lng_coords is None):        \n",
    "        g = geocoder.google('{}, Toronto, Ontario'.format(postal_code))\n",
    "        lat_lng_coords = g.latlng\n",
    "        \n",
    "    latitude = lat_lng_coords[0]\n",
    "    longitude = lat_lng_coords[1]\n",
    "    \n",
    "    return latitude, longitude\n",
    "-->"
   ]
  },
  {
   "cell_type": "code",
   "execution_count": 8,
   "metadata": {},
   "outputs": [
    {
     "name": "stdout",
     "output_type": "stream",
     "text": [
      "Lat or Lng is missing?  False\n"
     ]
    }
   ],
   "source": [
    "# join Lat & lng into neighborhood dataframe\n",
    "neigh_df = neigh_df.join(coords_df.set_index('Postal Code'), on='Postal Code')\n",
    "\n",
    "# check if there is any missing value for Latitude & Longitude\n",
    "print('Lat or Lng is missing? ', neigh_df[['Latitude', 'Longitude']].isnull().values.any())"
   ]
  },
  {
   "cell_type": "markdown",
   "metadata": {},
   "source": [
    "<div class=\"alert alert-block alert-info\" style=\"margin-top: 20px\">\n",
    "    <font size=3><b> To show dataframe after incorporating coordinates </b></font>\n",
    "</div>  "
   ]
  },
  {
   "cell_type": "code",
   "execution_count": 9,
   "metadata": {},
   "outputs": [
    {
     "data": {
      "text/html": [
       "<div>\n",
       "<style scoped>\n",
       "    .dataframe tbody tr th:only-of-type {\n",
       "        vertical-align: middle;\n",
       "    }\n",
       "\n",
       "    .dataframe tbody tr th {\n",
       "        vertical-align: top;\n",
       "    }\n",
       "\n",
       "    .dataframe thead th {\n",
       "        text-align: right;\n",
       "    }\n",
       "</style>\n",
       "<table border=\"1\" class=\"dataframe\">\n",
       "  <thead>\n",
       "    <tr style=\"text-align: right;\">\n",
       "      <th></th>\n",
       "      <th>Postal Code</th>\n",
       "      <th>Borough</th>\n",
       "      <th>Neighbourhood</th>\n",
       "      <th>Latitude</th>\n",
       "      <th>Longitude</th>\n",
       "    </tr>\n",
       "  </thead>\n",
       "  <tbody>\n",
       "    <tr>\n",
       "      <th>0</th>\n",
       "      <td>M3A</td>\n",
       "      <td>North York</td>\n",
       "      <td>Parkwoods</td>\n",
       "      <td>43.753259</td>\n",
       "      <td>-79.329656</td>\n",
       "    </tr>\n",
       "    <tr>\n",
       "      <th>1</th>\n",
       "      <td>M4A</td>\n",
       "      <td>North York</td>\n",
       "      <td>Victoria Village</td>\n",
       "      <td>43.725882</td>\n",
       "      <td>-79.315572</td>\n",
       "    </tr>\n",
       "    <tr>\n",
       "      <th>2</th>\n",
       "      <td>M5A</td>\n",
       "      <td>Downtown Toronto</td>\n",
       "      <td>Regent Park, Harbourfront</td>\n",
       "      <td>43.654260</td>\n",
       "      <td>-79.360636</td>\n",
       "    </tr>\n",
       "    <tr>\n",
       "      <th>3</th>\n",
       "      <td>M6A</td>\n",
       "      <td>North York</td>\n",
       "      <td>Lawrence Manor, Lawrence Heights</td>\n",
       "      <td>43.718518</td>\n",
       "      <td>-79.464763</td>\n",
       "    </tr>\n",
       "    <tr>\n",
       "      <th>4</th>\n",
       "      <td>M7A</td>\n",
       "      <td>Downtown Toronto</td>\n",
       "      <td>Queen's Park, Ontario Provincial Government</td>\n",
       "      <td>43.662301</td>\n",
       "      <td>-79.389494</td>\n",
       "    </tr>\n",
       "  </tbody>\n",
       "</table>\n",
       "</div>"
      ],
      "text/plain": [
       "  Postal Code           Borough                                Neighbourhood  \\\n",
       "0         M3A        North York                                    Parkwoods   \n",
       "1         M4A        North York                             Victoria Village   \n",
       "2         M5A  Downtown Toronto                    Regent Park, Harbourfront   \n",
       "3         M6A        North York             Lawrence Manor, Lawrence Heights   \n",
       "4         M7A  Downtown Toronto  Queen's Park, Ontario Provincial Government   \n",
       "\n",
       "    Latitude  Longitude  \n",
       "0  43.753259 -79.329656  \n",
       "1  43.725882 -79.315572  \n",
       "2  43.654260 -79.360636  \n",
       "3  43.718518 -79.464763  \n",
       "4  43.662301 -79.389494  "
      ]
     },
     "execution_count": 9,
     "metadata": {},
     "output_type": "execute_result"
    }
   ],
   "source": [
    "neigh_df.head()"
   ]
  },
  {
   "cell_type": "markdown",
   "metadata": {},
   "source": [
    "## 3. Analysis on neighborhoods by clustering technique"
   ]
  },
  {
   "cell_type": "markdown",
   "metadata": {},
   "source": [
    "### 3.1 Retrieve nearby venues of interest for all neighborhoods"
   ]
  },
  {
   "cell_type": "markdown",
   "metadata": {},
   "source": [
    "#### Define Foursquare Credentials and Version"
   ]
  },
  {
   "cell_type": "code",
   "execution_count": 10,
   "metadata": {},
   "outputs": [],
   "source": [
    "CLIENT_ID = 'P10LET5HE4VWEJA3E30U41HNIWR11PSIAZUXKE5LGXK21UF1' # your Foursquare ID\n",
    "CLIENT_SECRET = 'CYJPOCAFILWGGJHUFWMFJXJLIBO2BIJAZ0XGC3NBMD1EDAJ5' # your Foursquare Secret\n",
    "VERSION = '20180605' # Foursquare API version\n",
    "LIMIT = 100 # A default Foursquare API limit value"
   ]
  },
  {
   "cell_type": "markdown",
   "metadata": {},
   "source": [
    "#### Filter Toronto borough only"
   ]
  },
  {
   "cell_type": "code",
   "execution_count": 11,
   "metadata": {},
   "outputs": [],
   "source": [
    "# only keep data with Borough containing 'Toronto'\n",
    "toronto_df = neigh_df[neigh_df['Borough'].str.contains('Toronto')].reset_index(drop=True)"
   ]
  },
  {
   "cell_type": "markdown",
   "metadata": {},
   "source": [
    "#### Define a function to get nearby venues for neighborhood"
   ]
  },
  {
   "cell_type": "code",
   "execution_count": 12,
   "metadata": {},
   "outputs": [],
   "source": [
    "def getNearbyVenues(names, latitudes, longitudes, radius=500):\n",
    "    \n",
    "    venues_list=[]\n",
    "    for name, lat, lng in zip(names, latitudes, longitudes):\n",
    "        #print(name)\n",
    "            \n",
    "        # create the API request URL\n",
    "        url = 'https://api.foursquare.com/v2/venues/explore?&client_id={}&client_secret={}&v={}&ll={},{}&radius={}&limit={}'.format(\n",
    "            CLIENT_ID, \n",
    "            CLIENT_SECRET, \n",
    "            VERSION, \n",
    "            lat, \n",
    "            lng, \n",
    "            radius, \n",
    "            LIMIT)\n",
    "            \n",
    "        # make the GET request\n",
    "        results = requests.get(url).json()[\"response\"]['groups'][0]['items']\n",
    "        \n",
    "        # return only relevant information for each nearby venue\n",
    "        venues_list.append([(\n",
    "            name, \n",
    "            lat, \n",
    "            lng, \n",
    "            v['venue']['name'], \n",
    "            v['venue']['location']['lat'], \n",
    "            v['venue']['location']['lng'],  \n",
    "            v['venue']['categories'][0]['name']) for v in results])\n",
    "\n",
    "    nearby_venues = pd.DataFrame([item for venue_list in venues_list for item in venue_list])\n",
    "    nearby_venues.columns = ['Neighborhood', \n",
    "                  'Neighborhood Latitude', \n",
    "                  'Neighborhood Longitude', \n",
    "                  'Venue', \n",
    "                  'Venue Latitude', \n",
    "                  'Venue Longitude', \n",
    "                  'Venue Category']\n",
    "    \n",
    "    return(nearby_venues)"
   ]
  },
  {
   "cell_type": "markdown",
   "metadata": {},
   "source": [
    "#### Get nearby values for all neighborhoods in Toronto"
   ]
  },
  {
   "cell_type": "code",
   "execution_count": 13,
   "metadata": {},
   "outputs": [],
   "source": [
    "toronto_venues = getNearbyVenues(names=toronto_df['Neighbourhood'],\n",
    "                                   latitudes=toronto_df['Latitude'],\n",
    "                                   longitudes=toronto_df['Longitude'])"
   ]
  },
  {
   "cell_type": "code",
   "execution_count": 14,
   "metadata": {},
   "outputs": [
    {
     "name": "stdout",
     "output_type": "stream",
     "text": [
      "There are 237 uniques categories.\n"
     ]
    },
    {
     "data": {
      "text/html": [
       "<div>\n",
       "<style scoped>\n",
       "    .dataframe tbody tr th:only-of-type {\n",
       "        vertical-align: middle;\n",
       "    }\n",
       "\n",
       "    .dataframe tbody tr th {\n",
       "        vertical-align: top;\n",
       "    }\n",
       "\n",
       "    .dataframe thead th {\n",
       "        text-align: right;\n",
       "    }\n",
       "</style>\n",
       "<table border=\"1\" class=\"dataframe\">\n",
       "  <thead>\n",
       "    <tr style=\"text-align: right;\">\n",
       "      <th></th>\n",
       "      <th>Neighborhood</th>\n",
       "      <th>Neighborhood Latitude</th>\n",
       "      <th>Neighborhood Longitude</th>\n",
       "      <th>Venue</th>\n",
       "      <th>Venue Latitude</th>\n",
       "      <th>Venue Longitude</th>\n",
       "      <th>Venue Category</th>\n",
       "    </tr>\n",
       "  </thead>\n",
       "  <tbody>\n",
       "    <tr>\n",
       "      <th>0</th>\n",
       "      <td>Regent Park, Harbourfront</td>\n",
       "      <td>43.65426</td>\n",
       "      <td>-79.360636</td>\n",
       "      <td>Roselle Desserts</td>\n",
       "      <td>43.653447</td>\n",
       "      <td>-79.362017</td>\n",
       "      <td>Bakery</td>\n",
       "    </tr>\n",
       "    <tr>\n",
       "      <th>1</th>\n",
       "      <td>Regent Park, Harbourfront</td>\n",
       "      <td>43.65426</td>\n",
       "      <td>-79.360636</td>\n",
       "      <td>Tandem Coffee</td>\n",
       "      <td>43.653559</td>\n",
       "      <td>-79.361809</td>\n",
       "      <td>Coffee Shop</td>\n",
       "    </tr>\n",
       "    <tr>\n",
       "      <th>2</th>\n",
       "      <td>Regent Park, Harbourfront</td>\n",
       "      <td>43.65426</td>\n",
       "      <td>-79.360636</td>\n",
       "      <td>Cooper Koo Family YMCA</td>\n",
       "      <td>43.653249</td>\n",
       "      <td>-79.358008</td>\n",
       "      <td>Distribution Center</td>\n",
       "    </tr>\n",
       "    <tr>\n",
       "      <th>3</th>\n",
       "      <td>Regent Park, Harbourfront</td>\n",
       "      <td>43.65426</td>\n",
       "      <td>-79.360636</td>\n",
       "      <td>Body Blitz Spa East</td>\n",
       "      <td>43.654735</td>\n",
       "      <td>-79.359874</td>\n",
       "      <td>Spa</td>\n",
       "    </tr>\n",
       "    <tr>\n",
       "      <th>4</th>\n",
       "      <td>Regent Park, Harbourfront</td>\n",
       "      <td>43.65426</td>\n",
       "      <td>-79.360636</td>\n",
       "      <td>Impact Kitchen</td>\n",
       "      <td>43.656369</td>\n",
       "      <td>-79.356980</td>\n",
       "      <td>Restaurant</td>\n",
       "    </tr>\n",
       "  </tbody>\n",
       "</table>\n",
       "</div>"
      ],
      "text/plain": [
       "                Neighborhood  Neighborhood Latitude  Neighborhood Longitude  \\\n",
       "0  Regent Park, Harbourfront               43.65426              -79.360636   \n",
       "1  Regent Park, Harbourfront               43.65426              -79.360636   \n",
       "2  Regent Park, Harbourfront               43.65426              -79.360636   \n",
       "3  Regent Park, Harbourfront               43.65426              -79.360636   \n",
       "4  Regent Park, Harbourfront               43.65426              -79.360636   \n",
       "\n",
       "                    Venue  Venue Latitude  Venue Longitude  \\\n",
       "0        Roselle Desserts       43.653447       -79.362017   \n",
       "1           Tandem Coffee       43.653559       -79.361809   \n",
       "2  Cooper Koo Family YMCA       43.653249       -79.358008   \n",
       "3     Body Blitz Spa East       43.654735       -79.359874   \n",
       "4          Impact Kitchen       43.656369       -79.356980   \n",
       "\n",
       "        Venue Category  \n",
       "0               Bakery  \n",
       "1          Coffee Shop  \n",
       "2  Distribution Center  \n",
       "3                  Spa  \n",
       "4           Restaurant  "
      ]
     },
     "execution_count": 14,
     "metadata": {},
     "output_type": "execute_result"
    }
   ],
   "source": [
    "# Examine the result set\n",
    "print('There are {} uniques categories.'.format(len(toronto_venues['Venue Category'].unique())))\n",
    "toronto_venues.head()"
   ]
  },
  {
   "cell_type": "markdown",
   "metadata": {},
   "source": [
    "### 3.2 Analyze data and get ready for clustering"
   ]
  },
  {
   "cell_type": "markdown",
   "metadata": {},
   "source": [
    "#### Convert venue categories to columns"
   ]
  },
  {
   "cell_type": "code",
   "execution_count": 15,
   "metadata": {},
   "outputs": [],
   "source": [
    "# one hot encoding\n",
    "# add in prefix for category to avoid duplicate column name. In fact is a category called 'Neighborhood'\n",
    "toronto_onehot = pd.get_dummies(toronto_venues[['Venue Category']], prefix=\"Cat\", prefix_sep=\"_\")\n",
    "\n",
    "# add neighborhood column back to dataframe\n",
    "toronto_onehot['Neighborhood'] = toronto_venues['Neighborhood']\n",
    "\n",
    "# move neighborhood column to the first column\n",
    "fixed_columns = [toronto_onehot.columns[-1]] + list(toronto_onehot.columns[:-1])\n",
    "toronto_onehot = toronto_onehot[fixed_columns]"
   ]
  },
  {
   "cell_type": "markdown",
   "metadata": {},
   "source": [
    "#### Group rows by neighborhood and calculate mean occurence of each venue category"
   ]
  },
  {
   "cell_type": "code",
   "execution_count": 16,
   "metadata": {},
   "outputs": [],
   "source": [
    "toronto_grouped = toronto_onehot.groupby('Neighborhood').mean().reset_index()"
   ]
  },
  {
   "cell_type": "markdown",
   "metadata": {},
   "source": [
    "### 3.3 Cluster Neighborhoods"
   ]
  },
  {
   "cell_type": "code",
   "execution_count": 17,
   "metadata": {},
   "outputs": [],
   "source": [
    "# set number of clusters\n",
    "kclusters = 8\n",
    "\n",
    "# run k-means on the venue category\n",
    "toronto_grouped_clustering = toronto_grouped.drop('Neighborhood', axis=1)\n",
    "kmeans = KMeans(n_clusters=kclusters, random_state=0).fit(toronto_grouped_clustering)\n",
    "\n",
    "# create a new dataframe that contains neighborhood coords with cluster label for plotting\n",
    "toronto_cluster = toronto_df\n",
    "toronto_cluster['Cluster Labels'] = kmeans.labels_"
   ]
  },
  {
   "cell_type": "markdown",
   "metadata": {},
   "source": [
    "### 3.4 Plot the Map"
   ]
  },
  {
   "cell_type": "markdown",
   "metadata": {},
   "source": [
    "#### First let's find Toronto coordinates to center the map"
   ]
  },
  {
   "cell_type": "code",
   "execution_count": 18,
   "metadata": {},
   "outputs": [
    {
     "name": "stdout",
     "output_type": "stream",
     "text": [
      "The geograpical coordinate of Toronto are 43.6534817, -79.3839347.\n"
     ]
    }
   ],
   "source": [
    "# find the coordinates of Toronto\n",
    "address = 'Toronto, Ontario, Canada'\n",
    "\n",
    "geolocator = Nominatim(user_agent=\"tr_explorer\")\n",
    "location = geolocator.geocode(address)\n",
    "latitude = location.latitude\n",
    "longitude = location.longitude\n",
    "print('The geograpical coordinate of Toronto are {}, {}.'.format(latitude, longitude))"
   ]
  },
  {
   "cell_type": "markdown",
   "metadata": {},
   "source": [
    "<div class=\"alert alert-block alert-info\" style=\"margin-top: 20px\">\n",
    "    <font size=3><b> To show map with clusters </b></font>\n",
    "</div>  "
   ]
  },
  {
   "cell_type": "markdown",
   "metadata": {},
   "source": [
    "#### kclusters = 8 is the optimal value to give us distinct clusters"
   ]
  },
  {
   "cell_type": "code",
   "execution_count": 19,
   "metadata": {
    "scrolled": false
   },
   "outputs": [
    {
     "data": {
      "text/html": [
       "<div style=\"width:100%;\"><div style=\"position:relative;width:100%;height:0;padding-bottom:60%;\"><span style=\"color:#565656\">Make this Notebook Trusted to load map: File -> Trust Notebook</span><iframe src=\"about:blank\" style=\"position:absolute;width:100%;height:100%;left:0;top:0;border:none !important;\" data-html=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 onload=\"this.contentDocument.open();this.contentDocument.write(atob(this.getAttribute('data-html')));this.contentDocument.close();\" allowfullscreen webkitallowfullscreen mozallowfullscreen></iframe></div></div>"
      ],
      "text/plain": [
       "<folium.folium.Map at 0x7f80892de3d0>"
      ]
     },
     "execution_count": 19,
     "metadata": {},
     "output_type": "execute_result"
    }
   ],
   "source": [
    "# create map\n",
    "map_clusters = folium.Map(location=[latitude, longitude], zoom_start=12)\n",
    "\n",
    "# set color scheme for the clusters\n",
    "x = np.arange(kclusters)\n",
    "ys = [i + x + (i*x)**2 for i in range(kclusters)]\n",
    "colors_array = cm.rainbow(np.linspace(0, 1, len(ys)))\n",
    "rainbow = [colors.rgb2hex(i) for i in colors_array]\n",
    "\n",
    "# add markers to the map\n",
    "markers_colors = []\n",
    "for lat, lon, poi, cluster in zip(toronto_cluster['Latitude'], toronto_cluster['Longitude'], toronto_cluster['Neighbourhood'], toronto_cluster['Cluster Labels']):\n",
    "    label = folium.Popup(str(poi) + ' Cluster ' + str(cluster), parse_html=True)\n",
    "    folium.CircleMarker(\n",
    "        [lat, lon],\n",
    "        radius=5,\n",
    "        popup=label,\n",
    "        color=rainbow[cluster-1],\n",
    "        fill=True,\n",
    "        fill_color=rainbow[cluster-1],\n",
    "        fill_opacity=1).add_to(map_clusters)\n",
    "       \n",
    "map_clusters"
   ]
  },
  {
   "cell_type": "markdown",
   "metadata": {},
   "source": [
    "## THE END."
   ]
  }
 ],
 "metadata": {
  "kernelspec": {
   "display_name": "Python 3.7",
   "language": "python",
   "name": "python3"
  },
  "language_info": {
   "codemirror_mode": {
    "name": "ipython",
    "version": 3
   },
   "file_extension": ".py",
   "mimetype": "text/x-python",
   "name": "python",
   "nbconvert_exporter": "python",
   "pygments_lexer": "ipython3",
   "version": "3.7.9"
  }
 },
 "nbformat": 4,
 "nbformat_minor": 1
}
