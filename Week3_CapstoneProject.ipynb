{
 "cells": [
  {
   "cell_type": "markdown",
   "metadata": {
    "collapsed": true
   },
   "source": [
    "<h1 align=center><font size = 5>Segmenting and Clustering Neighborhoods in Toronto</font></h1>"
   ]
  },
  {
   "cell_type": "markdown",
   "metadata": {},
   "source": [
    "## Introduction\n",
    "\n",
    "In this assignment, we will explore, segment, and cluster the neighborhoods in the city of Toronto. For the Toronto neighborhood data, a Wikipedia page exists that has all the information we need to explore and cluster the neighborhoods in Toronto.\n",
    "\n",
    "Once the data is in a structured format, we can replicate the analysis that we did to the New York City dataset to explore and cluster the neighborhoods in the city of Toronto."
   ]
  },
  {
   "cell_type": "markdown",
   "metadata": {},
   "source": [
    "## Table of Contents\n",
    "\n",
    "<div class=\"alert alert-block alert-info\" style=\"margin-top: 20px\">\n",
    "\n",
    "<font size = 3>\n",
    "\n",
    "1.  Extract Toronto neighborhood data from wikipedia and build data frame\n",
    "\n",
    "2.  Coordinates (lat, lng) for each Toronto neighborhoods\n",
    "\n",
    "3.  Analysis on neighborhoods by clustering technique\n",
    "\n",
    "    </font>\n",
    "    </div>"
   ]
  },
  {
   "cell_type": "markdown",
   "metadata": {},
   "source": [
    "First, let's import all the required libraries"
   ]
  },
  {
   "cell_type": "code",
   "execution_count": 1,
   "metadata": {},
   "outputs": [
    {
     "name": "stdout",
     "output_type": "stream",
     "text": [
      "Requirement already satisfied: geocoder in /opt/conda/envs/Python-3.7-main/lib/python3.7/site-packages (1.38.1)\n",
      "Requirement already satisfied: six in /opt/conda/envs/Python-3.7-main/lib/python3.7/site-packages (from geocoder) (1.15.0)\n",
      "Requirement already satisfied: requests in /opt/conda/envs/Python-3.7-main/lib/python3.7/site-packages (from geocoder) (2.24.0)\n",
      "Requirement already satisfied: future in /opt/conda/envs/Python-3.7-main/lib/python3.7/site-packages (from geocoder) (0.18.2)\n",
      "Requirement already satisfied: click in /opt/conda/envs/Python-3.7-main/lib/python3.7/site-packages (from geocoder) (7.1.2)\n",
      "Requirement already satisfied: ratelim in /opt/conda/envs/Python-3.7-main/lib/python3.7/site-packages (from geocoder) (0.1.6)\n",
      "Requirement already satisfied: chardet<4,>=3.0.2 in /opt/conda/envs/Python-3.7-main/lib/python3.7/site-packages (from requests->geocoder) (3.0.4)\n",
      "Requirement already satisfied: certifi>=2017.4.17 in /opt/conda/envs/Python-3.7-main/lib/python3.7/site-packages (from requests->geocoder) (2020.6.20)\n",
      "Requirement already satisfied: urllib3!=1.25.0,!=1.25.1,<1.26,>=1.21.1 in /opt/conda/envs/Python-3.7-main/lib/python3.7/site-packages (from requests->geocoder) (1.25.9)\n",
      "Requirement already satisfied: idna<3,>=2.5 in /opt/conda/envs/Python-3.7-main/lib/python3.7/site-packages (from requests->geocoder) (2.9)\n",
      "Requirement already satisfied: decorator in /opt/conda/envs/Python-3.7-main/lib/python3.7/site-packages (from ratelim->geocoder) (4.4.2)\n",
      "Requirement already satisfied: folium in /opt/conda/envs/Python-3.7-main/lib/python3.7/site-packages (0.11.0)\n",
      "Requirement already satisfied: requests in /opt/conda/envs/Python-3.7-main/lib/python3.7/site-packages (from folium) (2.24.0)\n",
      "Requirement already satisfied: jinja2>=2.9 in /opt/conda/envs/Python-3.7-main/lib/python3.7/site-packages (from folium) (2.11.2)\n",
      "Requirement already satisfied: branca>=0.3.0 in /opt/conda/envs/Python-3.7-main/lib/python3.7/site-packages (from folium) (0.4.1)\n",
      "Requirement already satisfied: numpy in /opt/conda/envs/Python-3.7-main/lib/python3.7/site-packages (from folium) (1.18.5)\n",
      "Requirement already satisfied: urllib3!=1.25.0,!=1.25.1,<1.26,>=1.21.1 in /opt/conda/envs/Python-3.7-main/lib/python3.7/site-packages (from requests->folium) (1.25.9)\n",
      "Requirement already satisfied: chardet<4,>=3.0.2 in /opt/conda/envs/Python-3.7-main/lib/python3.7/site-packages (from requests->folium) (3.0.4)\n",
      "Requirement already satisfied: certifi>=2017.4.17 in /opt/conda/envs/Python-3.7-main/lib/python3.7/site-packages (from requests->folium) (2020.6.20)\n",
      "Requirement already satisfied: idna<3,>=2.5 in /opt/conda/envs/Python-3.7-main/lib/python3.7/site-packages (from requests->folium) (2.9)\n",
      "Requirement already satisfied: MarkupSafe>=0.23 in /opt/conda/envs/Python-3.7-main/lib/python3.7/site-packages (from jinja2>=2.9->folium) (1.1.1)\n"
     ]
    }
   ],
   "source": [
    "import numpy as np\n",
    "import pandas as pd\n",
    "\n",
    "import requests\n",
    "import json # to handle json file from Foursquare\n",
    "\n",
    "#!conda install -c conda-forge geopy --yes # uncomment if required\n",
    "from geopy.geocoders import Nominatim # convert an address into latitude and longitude values\n",
    "\n",
    "! pip install geocoder\n",
    "import geocoder\n",
    "\n",
    "# Matplotlib and associated plotting modules\n",
    "import matplotlib.cm as cm\n",
    "import matplotlib.colors as colors\n",
    "\n",
    "# import k-means from clustering stage\n",
    "from sklearn.cluster import KMeans\n",
    "\n",
    "! pip install folium # uncomment if required\n",
    "import folium # map rendering library"
   ]
  },
  {
   "cell_type": "markdown",
   "metadata": {},
   "source": [
    "## 1. Extract Toronto neighborhood data from wikipedia and build data frame"
   ]
  },
  {
   "cell_type": "markdown",
   "metadata": {},
   "source": [
    "Toronto neightborhood data is available on this webpage: https://en.wikipedia.org/wiki/List_of_postal_codes_of_Canada:_M. We would need to crawl through the html and extract the table into dataframe."
   ]
  },
  {
   "cell_type": "markdown",
   "metadata": {},
   "source": [
    "#### First we extract the table from wikipedia page using pandas"
   ]
  },
  {
   "cell_type": "code",
   "execution_count": 2,
   "metadata": {},
   "outputs": [],
   "source": [
    "# Extract html data\n",
    "data_url = 'https://en.wikipedia.org/wiki/List_of_postal_codes_of_Canada:_M'\n",
    "wiki_data = requests.get(data_url)"
   ]
  },
  {
   "cell_type": "code",
   "execution_count": 3,
   "metadata": {},
   "outputs": [
    {
     "name": "stdout",
     "output_type": "stream",
     "text": [
      "3 <class 'list'> <class 'pandas.core.frame.DataFrame'>\n"
     ]
    }
   ],
   "source": [
    "# Use pandas to attempt reading the table in html\n",
    "wiki_df = pd.read_html(wiki_data.text)\n",
    "print(len(wiki_df), type(wiki_df), type(wiki_df[0])) # check the size & type"
   ]
  },
  {
   "cell_type": "markdown",
   "metadata": {},
   "source": [
    "Click **here** to show the code to loop through captured dataframes\n",
    "\n",
    "<!--\n",
    "for data in wiki_df:\n",
    "    print(data.head())\n",
    "    print('----------------------------------------')\n",
    "-->"
   ]
  },
  {
   "cell_type": "code",
   "execution_count": 4,
   "metadata": {},
   "outputs": [
    {
     "name": "stdout",
     "output_type": "stream",
     "text": [
      "  Postal Code           Borough              Neighbourhood\n",
      "0         M1A      Not assigned               Not assigned\n",
      "1         M2A      Not assigned               Not assigned\n",
      "2         M3A        North York                  Parkwoods\n",
      "3         M4A        North York           Victoria Village\n",
      "4         M5A  Downtown Toronto  Regent Park, Harbourfront\n",
      "The shape of neighborhood data is (180, 3)\n"
     ]
    }
   ],
   "source": [
    "# From the above, we know that the neighborhood data is the first item in list\n",
    "neigh_df = wiki_df[0]\n",
    "print(neigh_df.head())\n",
    "print('The shape of neighborhood data is {}'.format(neigh_df.shape))"
   ]
  },
  {
   "cell_type": "markdown",
   "metadata": {},
   "source": [
    "#### Clean up the data\n",
    "\n",
    "Below is more info for the table data:\n",
    "- The dataframe will consist of three columns: PostalCode, Borough, and Neighborhood\n",
    "- Only process the cells that have an assigned borough. Ignore cells with a borough that is Not assigned.\n",
    "- More than one neighborhood can exist in one postal code area. For example, in the table on the Wikipedia page, you will notice that M5A is listed twice and has two neighborhoods: Harbourfront and Regent Park. These two rows will be combined into one row with the neighborhoods separated with a comma as shown in row 11 in the above table.\n",
    "- If a cell has a borough but a Not assigned neighborhood, then the neighborhood will be the same as the borough.\n",
    "- Clean your Notebook and add Markdown cells to explain your work and any assumptions you are making.\n",
    "- In the last cell of your notebook, use the .shape method to print the number of rows of your dataframe."
   ]
  },
  {
   "cell_type": "code",
   "execution_count": 5,
   "metadata": {},
   "outputs": [
    {
     "name": "stdout",
     "output_type": "stream",
     "text": [
      "Check if any 'Not assigned' left:  False ,  False\n"
     ]
    }
   ],
   "source": [
    "# run through each row in the dataframe for cleanup exercise\n",
    "for i, row in neigh_df.iterrows():\n",
    "    \n",
    "    # drop row if Borough is not assigned\n",
    "    if row['Borough'] == 'Not assigned':\n",
    "        neigh_df.drop(i, axis=0, inplace=True)\n",
    "        \n",
    "    # assign 'Borough' name to Neighborhood if neighborhood is not assigned\n",
    "    elif row['Neighbourhood'] == 'Not assigned':\n",
    "        neigh_df.at[i, 'Neighbourhood'] = row['Borough']\n",
    "\n",
    "neigh_df.reset_index(drop=True, inplace=True)\n",
    "print(\"Check if any 'Not assigned' left: \", any(neigh_df['Borough'] == 'Not assigned'), ', ', any(neigh_df['Neighbourhood'] == 'Not assigned'))"
   ]
  },
  {
   "cell_type": "markdown",
   "metadata": {},
   "source": [
    "<div class=\"alert alert-block alert-info\" style=\"margin-top: 20px\">\n",
    "    <font size=3><b> To show the shape of dataframe after cleanup </b></font>\n",
    "</div>"
   ]
  },
  {
   "cell_type": "code",
   "execution_count": 6,
   "metadata": {},
   "outputs": [
    {
     "data": {
      "text/plain": [
       "(103, 3)"
      ]
     },
     "execution_count": 6,
     "metadata": {},
     "output_type": "execute_result"
    }
   ],
   "source": [
    "neigh_df.shape"
   ]
  },
  {
   "cell_type": "markdown",
   "metadata": {},
   "source": [
    "## 2. Coordinates (lat, lng) for each Toronto neighborhoods"
   ]
  },
  {
   "cell_type": "code",
   "execution_count": 7,
   "metadata": {},
   "outputs": [
    {
     "data": {
      "text/html": [
       "<div>\n",
       "<style scoped>\n",
       "    .dataframe tbody tr th:only-of-type {\n",
       "        vertical-align: middle;\n",
       "    }\n",
       "\n",
       "    .dataframe tbody tr th {\n",
       "        vertical-align: top;\n",
       "    }\n",
       "\n",
       "    .dataframe thead th {\n",
       "        text-align: right;\n",
       "    }\n",
       "</style>\n",
       "<table border=\"1\" class=\"dataframe\">\n",
       "  <thead>\n",
       "    <tr style=\"text-align: right;\">\n",
       "      <th></th>\n",
       "      <th>Postal Code</th>\n",
       "      <th>Latitude</th>\n",
       "      <th>Longitude</th>\n",
       "    </tr>\n",
       "  </thead>\n",
       "  <tbody>\n",
       "    <tr>\n",
       "      <th>0</th>\n",
       "      <td>M1B</td>\n",
       "      <td>43.806686</td>\n",
       "      <td>-79.194353</td>\n",
       "    </tr>\n",
       "    <tr>\n",
       "      <th>1</th>\n",
       "      <td>M1C</td>\n",
       "      <td>43.784535</td>\n",
       "      <td>-79.160497</td>\n",
       "    </tr>\n",
       "    <tr>\n",
       "      <th>2</th>\n",
       "      <td>M1E</td>\n",
       "      <td>43.763573</td>\n",
       "      <td>-79.188711</td>\n",
       "    </tr>\n",
       "    <tr>\n",
       "      <th>3</th>\n",
       "      <td>M1G</td>\n",
       "      <td>43.770992</td>\n",
       "      <td>-79.216917</td>\n",
       "    </tr>\n",
       "    <tr>\n",
       "      <th>4</th>\n",
       "      <td>M1H</td>\n",
       "      <td>43.773136</td>\n",
       "      <td>-79.239476</td>\n",
       "    </tr>\n",
       "  </tbody>\n",
       "</table>\n",
       "</div>"
      ],
      "text/plain": [
       "  Postal Code   Latitude  Longitude\n",
       "0         M1B  43.806686 -79.194353\n",
       "1         M1C  43.784535 -79.160497\n",
       "2         M1E  43.763573 -79.188711\n",
       "3         M1G  43.770992 -79.216917\n",
       "4         M1H  43.773136 -79.239476"
      ]
     },
     "execution_count": 7,
     "metadata": {},
     "output_type": "execute_result"
    }
   ],
   "source": [
    "# Import the coordinates file\n",
    "coords_df = pd.read_csv(\"http://cocl.us/Geospatial_data\")\n",
    "coords_df.head()"
   ]
  },
  {
   "cell_type": "markdown",
   "metadata": {},
   "source": [
    "Click **here** for some note on why I did not use geocoder\n",
    "\n",
    "<!-- I tried to use geocoder function but unable to, it keeps returning None\n",
    "\n",
    "# define the function to get lat & lng by postal code\n",
    "def get_latlng(postal_code):\n",
    "    # initialize variables\n",
    "    lat_lng_coords = None\n",
    "\n",
    "    # loop until you get the coordinates\n",
    "    while (lat_lng_coords is None):        \n",
    "        g = geocoder.google('{}, Toronto, Ontario'.format(postal_code))\n",
    "        lat_lng_coords = g.latlng\n",
    "        \n",
    "    latitude = lat_lng_coords[0]\n",
    "    longitude = lat_lng_coords[1]\n",
    "    \n",
    "    return latitude, longitude\n",
    "-->"
   ]
  },
  {
   "cell_type": "code",
   "execution_count": 8,
   "metadata": {},
   "outputs": [
    {
     "name": "stdout",
     "output_type": "stream",
     "text": [
      "Lat or Lng is missing?  False\n"
     ]
    }
   ],
   "source": [
    "# join Lat & lng into neighborhood dataframe\n",
    "neigh_df = neigh_df.join(coords_df.set_index('Postal Code'), on='Postal Code')\n",
    "\n",
    "# check if there is any missing value for Latitude & Longitude\n",
    "print('Lat or Lng is missing? ', neigh_df[['Latitude', 'Longitude']].isnull().values.any())"
   ]
  },
  {
   "cell_type": "markdown",
   "metadata": {},
   "source": [
    "<div class=\"alert alert-block alert-info\" style=\"margin-top: 20px\">\n",
    "    <font size=3><b> To show dataframe after incorporating coordinates </b></font>\n",
    "</div>  "
   ]
  },
  {
   "cell_type": "code",
   "execution_count": 9,
   "metadata": {},
   "outputs": [
    {
     "data": {
      "text/html": [
       "<div>\n",
       "<style scoped>\n",
       "    .dataframe tbody tr th:only-of-type {\n",
       "        vertical-align: middle;\n",
       "    }\n",
       "\n",
       "    .dataframe tbody tr th {\n",
       "        vertical-align: top;\n",
       "    }\n",
       "\n",
       "    .dataframe thead th {\n",
       "        text-align: right;\n",
       "    }\n",
       "</style>\n",
       "<table border=\"1\" class=\"dataframe\">\n",
       "  <thead>\n",
       "    <tr style=\"text-align: right;\">\n",
       "      <th></th>\n",
       "      <th>Postal Code</th>\n",
       "      <th>Borough</th>\n",
       "      <th>Neighbourhood</th>\n",
       "      <th>Latitude</th>\n",
       "      <th>Longitude</th>\n",
       "    </tr>\n",
       "  </thead>\n",
       "  <tbody>\n",
       "    <tr>\n",
       "      <th>0</th>\n",
       "      <td>M3A</td>\n",
       "      <td>North York</td>\n",
       "      <td>Parkwoods</td>\n",
       "      <td>43.753259</td>\n",
       "      <td>-79.329656</td>\n",
       "    </tr>\n",
       "    <tr>\n",
       "      <th>1</th>\n",
       "      <td>M4A</td>\n",
       "      <td>North York</td>\n",
       "      <td>Victoria Village</td>\n",
       "      <td>43.725882</td>\n",
       "      <td>-79.315572</td>\n",
       "    </tr>\n",
       "    <tr>\n",
       "      <th>2</th>\n",
       "      <td>M5A</td>\n",
       "      <td>Downtown Toronto</td>\n",
       "      <td>Regent Park, Harbourfront</td>\n",
       "      <td>43.654260</td>\n",
       "      <td>-79.360636</td>\n",
       "    </tr>\n",
       "    <tr>\n",
       "      <th>3</th>\n",
       "      <td>M6A</td>\n",
       "      <td>North York</td>\n",
       "      <td>Lawrence Manor, Lawrence Heights</td>\n",
       "      <td>43.718518</td>\n",
       "      <td>-79.464763</td>\n",
       "    </tr>\n",
       "    <tr>\n",
       "      <th>4</th>\n",
       "      <td>M7A</td>\n",
       "      <td>Downtown Toronto</td>\n",
       "      <td>Queen's Park, Ontario Provincial Government</td>\n",
       "      <td>43.662301</td>\n",
       "      <td>-79.389494</td>\n",
       "    </tr>\n",
       "  </tbody>\n",
       "</table>\n",
       "</div>"
      ],
      "text/plain": [
       "  Postal Code           Borough                                Neighbourhood  \\\n",
       "0         M3A        North York                                    Parkwoods   \n",
       "1         M4A        North York                             Victoria Village   \n",
       "2         M5A  Downtown Toronto                    Regent Park, Harbourfront   \n",
       "3         M6A        North York             Lawrence Manor, Lawrence Heights   \n",
       "4         M7A  Downtown Toronto  Queen's Park, Ontario Provincial Government   \n",
       "\n",
       "    Latitude  Longitude  \n",
       "0  43.753259 -79.329656  \n",
       "1  43.725882 -79.315572  \n",
       "2  43.654260 -79.360636  \n",
       "3  43.718518 -79.464763  \n",
       "4  43.662301 -79.389494  "
      ]
     },
     "execution_count": 9,
     "metadata": {},
     "output_type": "execute_result"
    }
   ],
   "source": [
    "neigh_df.head()"
   ]
  },
  {
   "cell_type": "markdown",
   "metadata": {},
   "source": [
    "## 3. Analysis on neighborhoods by clustering technique"
   ]
  },
  {
   "cell_type": "markdown",
   "metadata": {},
   "source": [
    "### 3.1 Retrieve nearby venues of interest for all neighborhoods"
   ]
  },
  {
   "cell_type": "markdown",
   "metadata": {},
   "source": [
    "#### Define Foursquare Credentials and Version"
   ]
  },
  {
   "cell_type": "code",
   "execution_count": 10,
   "metadata": {},
   "outputs": [],
   "source": [
    "CLIENT_ID = 'P10LET5HE4VWEJA3E30U41HNIWR11PSIAZUXKE5LGXK21UF1' # your Foursquare ID\n",
    "CLIENT_SECRET = 'CYJPOCAFILWGGJHUFWMFJXJLIBO2BIJAZ0XGC3NBMD1EDAJ5' # your Foursquare Secret\n",
    "VERSION = '20180605' # Foursquare API version\n",
    "LIMIT = 100 # A default Foursquare API limit value"
   ]
  },
  {
   "cell_type": "markdown",
   "metadata": {},
   "source": [
    "#### Filter Toronto borough only"
   ]
  },
  {
   "cell_type": "code",
   "execution_count": 11,
   "metadata": {},
   "outputs": [],
   "source": [
    "# only keep data with Borough containing 'Toronto'\n",
    "toronto_df = neigh_df[neigh_df['Borough'].str.contains('Toronto')].reset_index(drop=True)"
   ]
  },
  {
   "cell_type": "markdown",
   "metadata": {},
   "source": [
    "#### Define a function to get nearby venues for neighborhood"
   ]
  },
  {
   "cell_type": "code",
   "execution_count": 12,
   "metadata": {},
   "outputs": [],
   "source": [
    "def getNearbyVenues(names, latitudes, longitudes, radius=500):\n",
    "    \n",
    "    venues_list=[]\n",
    "    for name, lat, lng in zip(names, latitudes, longitudes):\n",
    "        print(name)\n",
    "            \n",
    "        # create the API request URL\n",
    "        url = 'https://api.foursquare.com/v2/venues/explore?&client_id={}&client_secret={}&v={}&ll={},{}&radius={}&limit={}'.format(\n",
    "            CLIENT_ID, \n",
    "            CLIENT_SECRET, \n",
    "            VERSION, \n",
    "            lat, \n",
    "            lng, \n",
    "            radius, \n",
    "            LIMIT)\n",
    "            \n",
    "        # make the GET request\n",
    "        results = requests.get(url).json()[\"response\"]['groups'][0]['items']\n",
    "        \n",
    "        # return only relevant information for each nearby venue\n",
    "        venues_list.append([(\n",
    "            name, \n",
    "            lat, \n",
    "            lng, \n",
    "            v['venue']['name'], \n",
    "            v['venue']['location']['lat'], \n",
    "            v['venue']['location']['lng'],  \n",
    "            v['venue']['categories'][0]['name']) for v in results])\n",
    "\n",
    "    nearby_venues = pd.DataFrame([item for venue_list in venues_list for item in venue_list])\n",
    "    nearby_venues.columns = ['Neighborhood', \n",
    "                  'Neighborhood Latitude', \n",
    "                  'Neighborhood Longitude', \n",
    "                  'Venue', \n",
    "                  'Venue Latitude', \n",
    "                  'Venue Longitude', \n",
    "                  'Venue Category']\n",
    "    \n",
    "    return(nearby_venues)"
   ]
  },
  {
   "cell_type": "markdown",
   "metadata": {},
   "source": [
    "#### Get nearby values for all neighborhoods in Toronto"
   ]
  },
  {
   "cell_type": "code",
   "execution_count": 13,
   "metadata": {},
   "outputs": [
    {
     "name": "stdout",
     "output_type": "stream",
     "text": [
      "Regent Park, Harbourfront\n",
      "Queen's Park, Ontario Provincial Government\n",
      "Garden District, Ryerson\n",
      "St. James Town\n",
      "The Beaches\n",
      "Berczy Park\n",
      "Central Bay Street\n",
      "Christie\n",
      "Richmond, Adelaide, King\n",
      "Dufferin, Dovercourt Village\n",
      "Harbourfront East, Union Station, Toronto Islands\n",
      "Little Portugal, Trinity\n",
      "The Danforth West, Riverdale\n",
      "Toronto Dominion Centre, Design Exchange\n",
      "Brockton, Parkdale Village, Exhibition Place\n",
      "India Bazaar, The Beaches West\n",
      "Commerce Court, Victoria Hotel\n",
      "Studio District\n",
      "Lawrence Park\n",
      "Roselawn\n",
      "Davisville North\n",
      "Forest Hill North & West, Forest Hill Road Park\n",
      "High Park, The Junction South\n",
      "North Toronto West, Lawrence Park\n",
      "The Annex, North Midtown, Yorkville\n",
      "Parkdale, Roncesvalles\n",
      "Davisville\n",
      "University of Toronto, Harbord\n",
      "Runnymede, Swansea\n",
      "Moore Park, Summerhill East\n",
      "Kensington Market, Chinatown, Grange Park\n",
      "Summerhill West, Rathnelly, South Hill, Forest Hill SE, Deer Park\n",
      "CN Tower, King and Spadina, Railway Lands, Harbourfront West, Bathurst Quay, South Niagara, Island airport\n",
      "Rosedale\n",
      "Stn A PO Boxes\n",
      "St. James Town, Cabbagetown\n",
      "First Canadian Place, Underground city\n",
      "Church and Wellesley\n",
      "Business reply mail Processing Centre, South Central Letter Processing Plant Toronto\n"
     ]
    }
   ],
   "source": [
    "toronto_venues = getNearbyVenues(names=toronto_df['Neighbourhood'],\n",
    "                                   latitudes=toronto_df['Latitude'],\n",
    "                                   longitudes=toronto_df['Longitude'])"
   ]
  },
  {
   "cell_type": "code",
   "execution_count": 14,
   "metadata": {},
   "outputs": [
    {
     "name": "stdout",
     "output_type": "stream",
     "text": [
      "There are 237 uniques categories.\n"
     ]
    },
    {
     "data": {
      "text/html": [
       "<div>\n",
       "<style scoped>\n",
       "    .dataframe tbody tr th:only-of-type {\n",
       "        vertical-align: middle;\n",
       "    }\n",
       "\n",
       "    .dataframe tbody tr th {\n",
       "        vertical-align: top;\n",
       "    }\n",
       "\n",
       "    .dataframe thead th {\n",
       "        text-align: right;\n",
       "    }\n",
       "</style>\n",
       "<table border=\"1\" class=\"dataframe\">\n",
       "  <thead>\n",
       "    <tr style=\"text-align: right;\">\n",
       "      <th></th>\n",
       "      <th>Neighborhood</th>\n",
       "      <th>Neighborhood Latitude</th>\n",
       "      <th>Neighborhood Longitude</th>\n",
       "      <th>Venue</th>\n",
       "      <th>Venue Latitude</th>\n",
       "      <th>Venue Longitude</th>\n",
       "      <th>Venue Category</th>\n",
       "    </tr>\n",
       "  </thead>\n",
       "  <tbody>\n",
       "    <tr>\n",
       "      <th>0</th>\n",
       "      <td>Regent Park, Harbourfront</td>\n",
       "      <td>43.65426</td>\n",
       "      <td>-79.360636</td>\n",
       "      <td>Roselle Desserts</td>\n",
       "      <td>43.653447</td>\n",
       "      <td>-79.362017</td>\n",
       "      <td>Bakery</td>\n",
       "    </tr>\n",
       "    <tr>\n",
       "      <th>1</th>\n",
       "      <td>Regent Park, Harbourfront</td>\n",
       "      <td>43.65426</td>\n",
       "      <td>-79.360636</td>\n",
       "      <td>Tandem Coffee</td>\n",
       "      <td>43.653559</td>\n",
       "      <td>-79.361809</td>\n",
       "      <td>Coffee Shop</td>\n",
       "    </tr>\n",
       "    <tr>\n",
       "      <th>2</th>\n",
       "      <td>Regent Park, Harbourfront</td>\n",
       "      <td>43.65426</td>\n",
       "      <td>-79.360636</td>\n",
       "      <td>Cooper Koo Family YMCA</td>\n",
       "      <td>43.653249</td>\n",
       "      <td>-79.358008</td>\n",
       "      <td>Distribution Center</td>\n",
       "    </tr>\n",
       "    <tr>\n",
       "      <th>3</th>\n",
       "      <td>Regent Park, Harbourfront</td>\n",
       "      <td>43.65426</td>\n",
       "      <td>-79.360636</td>\n",
       "      <td>Body Blitz Spa East</td>\n",
       "      <td>43.654735</td>\n",
       "      <td>-79.359874</td>\n",
       "      <td>Spa</td>\n",
       "    </tr>\n",
       "    <tr>\n",
       "      <th>4</th>\n",
       "      <td>Regent Park, Harbourfront</td>\n",
       "      <td>43.65426</td>\n",
       "      <td>-79.360636</td>\n",
       "      <td>Impact Kitchen</td>\n",
       "      <td>43.656369</td>\n",
       "      <td>-79.356980</td>\n",
       "      <td>Restaurant</td>\n",
       "    </tr>\n",
       "  </tbody>\n",
       "</table>\n",
       "</div>"
      ],
      "text/plain": [
       "                Neighborhood  Neighborhood Latitude  Neighborhood Longitude  \\\n",
       "0  Regent Park, Harbourfront               43.65426              -79.360636   \n",
       "1  Regent Park, Harbourfront               43.65426              -79.360636   \n",
       "2  Regent Park, Harbourfront               43.65426              -79.360636   \n",
       "3  Regent Park, Harbourfront               43.65426              -79.360636   \n",
       "4  Regent Park, Harbourfront               43.65426              -79.360636   \n",
       "\n",
       "                    Venue  Venue Latitude  Venue Longitude  \\\n",
       "0        Roselle Desserts       43.653447       -79.362017   \n",
       "1           Tandem Coffee       43.653559       -79.361809   \n",
       "2  Cooper Koo Family YMCA       43.653249       -79.358008   \n",
       "3     Body Blitz Spa East       43.654735       -79.359874   \n",
       "4          Impact Kitchen       43.656369       -79.356980   \n",
       "\n",
       "        Venue Category  \n",
       "0               Bakery  \n",
       "1          Coffee Shop  \n",
       "2  Distribution Center  \n",
       "3                  Spa  \n",
       "4           Restaurant  "
      ]
     },
     "execution_count": 14,
     "metadata": {},
     "output_type": "execute_result"
    }
   ],
   "source": [
    "# Examine the result set\n",
    "print('There are {} uniques categories.'.format(len(toronto_venues['Venue Category'].unique())))\n",
    "toronto_venues.head()"
   ]
  },
  {
   "cell_type": "markdown",
   "metadata": {},
   "source": [
    "### 3.2 Analyze data and get ready for clustering"
   ]
  },
  {
   "cell_type": "markdown",
   "metadata": {},
   "source": [
    "#### Convert venue categories to columns"
   ]
  },
  {
   "cell_type": "code",
   "execution_count": 15,
   "metadata": {},
   "outputs": [],
   "source": [
    "# one hot encoding\n",
    "# add in prefix for category to avoid duplicate column name. In fact is a category called 'Neighborhood'\n",
    "toronto_onehot = pd.get_dummies(toronto_venues[['Venue Category']], prefix=\"Cat\", prefix_sep=\"_\")\n",
    "\n",
    "# add neighborhood column back to dataframe\n",
    "toronto_onehot['Neighborhood'] = toronto_venues['Neighborhood']\n",
    "\n",
    "# move neighborhood column to the first column\n",
    "fixed_columns = [toronto_onehot.columns[-1]] + list(toronto_onehot.columns[:-1])\n",
    "toronto_onehot = toronto_onehot[fixed_columns]"
   ]
  },
  {
   "cell_type": "markdown",
   "metadata": {},
   "source": [
    "#### Group rows by neighborhood and calculate mean occurence of each venue category"
   ]
  },
  {
   "cell_type": "code",
   "execution_count": 16,
   "metadata": {},
   "outputs": [],
   "source": [
    "toronto_grouped = toronto_onehot.groupby('Neighborhood').mean().reset_index()"
   ]
  },
  {
   "cell_type": "markdown",
   "metadata": {},
   "source": [
    "### 3.3 Cluster Neighborhoods"
   ]
  },
  {
   "cell_type": "code",
   "execution_count": 17,
   "metadata": {},
   "outputs": [],
   "source": [
    "# set number of clusters\n",
    "kclusters = 8\n",
    "\n",
    "# run k-means on the venue category\n",
    "toronto_grouped_clustering = toronto_grouped.drop('Neighborhood', axis=1)\n",
    "kmeans = KMeans(n_clusters=kclusters, random_state=0).fit(toronto_grouped_clustering)\n",
    "\n",
    "# create a new dataframe that contains neighborhood coords with cluster label for plotting\n",
    "toronto_cluster = toronto_df\n",
    "toronto_cluster['Cluster Labels'] = kmeans.labels_"
   ]
  },
  {
   "cell_type": "markdown",
   "metadata": {},
   "source": [
    "### 3.4 Plot the Map"
   ]
  },
  {
   "cell_type": "markdown",
   "metadata": {},
   "source": [
    "#### First let's find Toronto coordinates to center the map"
   ]
  },
  {
   "cell_type": "code",
   "execution_count": 18,
   "metadata": {},
   "outputs": [
    {
     "name": "stdout",
     "output_type": "stream",
     "text": [
      "The geograpical coordinate of Toronto are 43.6534817, -79.3839347.\n"
     ]
    }
   ],
   "source": [
    "# find the coordinates of Toronto\n",
    "address = 'Toronto, Ontario, Canada'\n",
    "\n",
    "geolocator = Nominatim(user_agent=\"tr_explorer\")\n",
    "location = geolocator.geocode(address)\n",
    "latitude = location.latitude\n",
    "longitude = location.longitude\n",
    "print('The geograpical coordinate of Toronto are {}, {}.'.format(latitude, longitude))"
   ]
  },
  {
   "cell_type": "markdown",
   "metadata": {},
   "source": [
    "<div class=\"alert alert-block alert-info\" style=\"margin-top: 20px\">\n",
    "    <font size=3><b> To show map with clusters </b></font>\n",
    "</div>  "
   ]
  },
  {
   "cell_type": "markdown",
   "metadata": {},
   "source": [
    "#### kclusters = 8 is the optimal value to give us distinct clusters"
   ]
  },
  {
   "cell_type": "code",
   "execution_count": 29,
   "metadata": {
    "scrolled": false
   },
   "outputs": [
    {
     "data": {
      "text/html": [
       "<div style=\"width:100%;\"><div style=\"position:relative;width:100%;height:0;padding-bottom:60%;\"><span style=\"color:#565656\">Make this Notebook Trusted to load map: File -> Trust Notebook</span><iframe src=\"about:blank\" style=\"position:absolute;width:100%;height:100%;left:0;top:0;border:none !important;\" data-html=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 onload=\"this.contentDocument.open();this.contentDocument.write(atob(this.getAttribute('data-html')));this.contentDocument.close();\" allowfullscreen webkitallowfullscreen mozallowfullscreen></iframe></div></div>"
      ],
      "text/plain": [
       "<folium.folium.Map at 0x7fa7c2f0ff10>"
      ]
     },
     "execution_count": 29,
     "metadata": {},
     "output_type": "execute_result"
    }
   ],
   "source": [
    "# create map\n",
    "map_clusters = folium.Map(location=[latitude, longitude], zoom_start=12)\n",
    "\n",
    "# set color scheme for the clusters\n",
    "x = np.arange(kclusters)\n",
    "ys = [i + x + (i*x)**2 for i in range(kclusters)]\n",
    "colors_array = cm.rainbow(np.linspace(0, 1, len(ys)))\n",
    "rainbow = [colors.rgb2hex(i) for i in colors_array]\n",
    "\n",
    "# add markers to the map\n",
    "markers_colors = []\n",
    "for lat, lon, poi, cluster in zip(toronto_cluster['Latitude'], toronto_cluster['Longitude'], toronto_cluster['Neighbourhood'], toronto_cluster['Cluster Labels']):\n",
    "    label = folium.Popup(str(poi) + ' Cluster ' + str(cluster), parse_html=True)\n",
    "    folium.CircleMarker(\n",
    "        [lat, lon],\n",
    "        radius=5,\n",
    "        popup=label,\n",
    "        color=rainbow[cluster-1],\n",
    "        fill=True,\n",
    "        fill_color=rainbow[cluster-1],\n",
    "        fill_opacity=1).add_to(map_clusters)\n",
    "       \n",
    "map_clusters"
   ]
  },
  {
   "cell_type": "code",
   "execution_count": null,
   "metadata": {},
   "outputs": [],
   "source": []
  }
 ],
 "metadata": {
  "kernelspec": {
   "display_name": "Python 3.7",
   "language": "python",
   "name": "python3"
  },
  "language_info": {
   "codemirror_mode": {
    "name": "ipython",
    "version": 3
   },
   "file_extension": ".py",
   "mimetype": "text/x-python",
   "name": "python",
   "nbconvert_exporter": "python",
   "pygments_lexer": "ipython3",
   "version": "3.7.9"
  }
 },
 "nbformat": 4,
 "nbformat_minor": 1
}
